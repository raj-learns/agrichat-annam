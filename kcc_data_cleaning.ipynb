{
 "cells": [
  {
   "cell_type": "code",
   "execution_count": 3,
   "id": "5a2993c3-d134-4bc2-a201-b4c474cee898",
   "metadata": {},
   "outputs": [
    {
     "name": "stderr",
     "output_type": "stream",
     "text": [
      "C:\\Users\\rajsh\\AppData\\Local\\Temp\\ipykernel_9812\\3483361069.py:21: DtypeWarning: Columns (1) have mixed types. Specify dtype option on import or set low_memory=False.\n",
      "  for chunk in pd.read_csv(input_file, chunksize=chunk_size):\n",
      "C:\\Users\\rajsh\\AppData\\Local\\Temp\\ipykernel_9812\\3483361069.py:21: DtypeWarning: Columns (1) have mixed types. Specify dtype option on import or set low_memory=False.\n",
      "  for chunk in pd.read_csv(input_file, chunksize=chunk_size):\n"
     ]
    },
    {
     "name": "stdout",
     "output_type": "stream",
     "text": [
      "Cleaning complete. Filtered file saved as: cleaned_file.csv\n"
     ]
    }
   ],
   "source": [
    "import pandas as pd\n",
    "import re\n",
    "\n",
    "input_file = \"C:\\\\Users\\\\rajsh\\\\Downloads\\\\kcc_dataset_part_1\\\\kcc_dataset_part_1.csv\"\n",
    "output_file = \"cleaned_file.csv\"\n",
    "\n",
    "def is_valid_question(text):\n",
    "    if pd.isna(text):  \n",
    "        return False\n",
    "    text = str(text).strip().lower()\n",
    "    return bool(re.search(r'[a-zA-Z]', text))\n",
    "\n",
    "\n",
    "chunk_size = 100000\n",
    "first_chunk = True\n",
    "\n",
    "for chunk in pd.read_csv(input_file, chunksize=chunk_size):\n",
    "    filtered_chunk = chunk[chunk['QueryText'].apply(is_valid_question)]\n",
    "    \n",
    "\n",
    "    if first_chunk:\n",
    "        filtered_chunk.to_csv(output_file, index=False)\n",
    "        first_chunk = False\n",
    "    else:\n",
    "        filtered_chunk.to_csv(output_file, mode='a', header=False, index=False)\n",
    "\n",
    "print(\"Cleaning complete. Filtered file saved as:\", output_file)\n"
   ]
  },
  {
   "cell_type": "code",
   "execution_count": 6,
   "id": "953a3653-5bc5-4ee5-b948-7188e3cbc649",
   "metadata": {},
   "outputs": [
    {
     "name": "stderr",
     "output_type": "stream",
     "text": [
      "C:\\Users\\rajsh\\AppData\\Local\\Temp\\ipykernel_9812\\2363809669.py:5: DtypeWarning: Columns (1) have mixed types. Specify dtype option on import or set low_memory=False.\n",
      "  df = pd.read_csv(file_path)\n"
     ]
    },
    {
     "name": "stdout",
     "output_type": "stream",
     "text": [
      "✅ Rows containing 'weather' have been removed and file updated.\n"
     ]
    }
   ],
   "source": [
    "import pandas as pd\n",
    "\n",
    "\n",
    "file_path = \"C:\\\\Users\\\\rajsh\\\\Downloads\\\\cleaned_file.csv\"\n",
    "df = pd.read_csv(file_path)\n",
    "\n",
    "df = df[~df['QueryText'].str.contains(r'weather', case=False, na=False)]\n",
    "\n",
    "df.to_csv(file_path, index=False)\n",
    "\n",
    "print(\" Rows containing 'weather' have been removed and file updated.\")\n"
   ]
  },
  {
   "cell_type": "code",
   "execution_count": null,
   "id": "796c401c-7c58-4ee7-83ab-d274b0fa721d",
   "metadata": {},
   "outputs": [],
   "source": []
  }
 ],
 "metadata": {
  "kernelspec": {
   "display_name": "Python 3 (ipykernel)",
   "language": "python",
   "name": "python3"
  },
  "language_info": {
   "codemirror_mode": {
    "name": "ipython",
    "version": 3
   },
   "file_extension": ".py",
   "mimetype": "text/x-python",
   "name": "python",
   "nbconvert_exporter": "python",
   "pygments_lexer": "ipython3",
   "version": "3.11.7"
  }
 },
 "nbformat": 4,
 "nbformat_minor": 5
}
